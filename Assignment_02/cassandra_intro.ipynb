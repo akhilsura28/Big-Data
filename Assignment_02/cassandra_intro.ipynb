{
 "cells": [
  {
   "cell_type": "markdown",
   "metadata": {},
   "source": [
    "### In this assignment, I will use the Dev01 environment to demonstrate:\n",
    "\n",
    "1. Launch VSCode and add a terminal\n",
    "2. Start/stop Cassandra from the vscode terminal\n",
    "3. Create a Jupyter Lab Notebook (in vscode) and use Python to accomplish the following (steps 4 through 9):\n",
    "4. Connect to the Cassandra Database\n",
    "5. Create a keyspace called m14\n",
    "6. Create a table in this keyspace that will be used to store inventory information. This will include the     fields, SKU (which is shown for stock keeping unit), name (short name for the product), description (longer description of the product), warehouse_num (the warehouse number where the product is stored)\n",
    "Populate several rows of data into your inventory table\n",
    "7. Create an index on warehouse_num. \n",
    "8. Search for all products located at a given location (for instance - if you created two rows with location 123, list all products at location 123)"
   ]
  },
  {
   "cell_type": "markdown",
   "metadata": {},
   "source": [
    "### Importing the necessary packages"
   ]
  },
  {
   "cell_type": "code",
   "execution_count": 1,
   "metadata": {},
   "outputs": [],
   "source": [
    "import pandas as pd\n",
    "from cassandra.cluster import Cluster"
   ]
  },
  {
   "cell_type": "markdown",
   "metadata": {},
   "source": [
    "### Creating a session connection to Cassandra cluster"
   ]
  },
  {
   "cell_type": "code",
   "execution_count": 2,
   "metadata": {},
   "outputs": [],
   "source": [
    "clstr = Cluster()\n",
    "session = clstr.connect()"
   ]
  },
  {
   "cell_type": "markdown",
   "metadata": {},
   "source": [
    "### Using session to 'talk' to cassandra"
   ]
  },
  {
   "cell_type": "code",
   "execution_count": 3,
   "metadata": {},
   "outputs": [
    {
     "data": {
      "text/plain": [
       "<cassandra.cluster.ResultSet at 0x7fd7b42366d0>"
      ]
     },
     "execution_count": 3,
     "metadata": {},
     "output_type": "execute_result"
    }
   ],
   "source": [
    "session.execute(\"DROP KEYSPACE IF EXISTS m14\")"
   ]
  },
  {
   "cell_type": "code",
   "execution_count": 4,
   "metadata": {},
   "outputs": [
    {
     "name": "stdout",
     "output_type": "stream",
     "text": [
      "system\n",
      "system_auth\n",
      "system_distributed\n",
      "system_schema\n",
      "system_traces\n",
      "system_views\n",
      "system_virtual_schema\n"
     ]
    }
   ],
   "source": [
    "rows = session.execute(\"desc keyspaces\")\n",
    "for row in rows:\n",
    "    print(f\"{row[0]}\")"
   ]
  },
  {
   "cell_type": "markdown",
   "metadata": {},
   "source": [
    "### Creating the keyspace m14 with replication factor 3"
   ]
  },
  {
   "cell_type": "code",
   "execution_count": 5,
   "metadata": {},
   "outputs": [
    {
     "data": {
      "text/plain": [
       "<cassandra.cluster.ResultSet at 0x7fd77d03f2d0>"
      ]
     },
     "execution_count": 5,
     "metadata": {},
     "output_type": "execute_result"
    }
   ],
   "source": [
    "session.execute(\"\"\"\n",
    "    CREATE KEYSPACE IF NOT EXISTS m14 WITH REPLICATION = {\n",
    "        'class':'SimpleStrategy', \n",
    "        'replication_factor':3\n",
    "    }\n",
    "\"\"\")"
   ]
  },
  {
   "cell_type": "markdown",
   "metadata": {},
   "source": [
    "### Creating inventory table in the m14 keyspace"
   ]
  },
  {
   "cell_type": "code",
   "execution_count": 6,
   "metadata": {},
   "outputs": [
    {
     "data": {
      "text/plain": [
       "<cassandra.cluster.ResultSet at 0x7fd77eb7ff10>"
      ]
     },
     "execution_count": 6,
     "metadata": {},
     "output_type": "execute_result"
    }
   ],
   "source": [
    "session.execute(\"\"\"\n",
    "CREATE TABLE IF NOT EXISTS m14.inventory ( \n",
    "    SKU TEXT, \n",
    "    name TEXT, \n",
    "    description TEXT, \n",
    "    warehouse_num INT, \n",
    "    PRIMARY KEY(SKU)\n",
    ");\n",
    "\"\"\")"
   ]
  },
  {
   "cell_type": "markdown",
   "metadata": {},
   "source": [
    "### Creating a dataframe to persist the values in inventory dataframe"
   ]
  },
  {
   "cell_type": "code",
   "execution_count": 7,
   "metadata": {},
   "outputs": [],
   "source": [
    "data = {\n",
    "    'SKU': ['SKU001', 'SKU002', 'SKU003', 'SKU004', 'SKU005'],\n",
    "    'name': ['Laptop', 'Monitor', 'Smartphone', 'Tablet', 'Wireless Mouse'],\n",
    "    'description': [\n",
    "        'High-performance laptop with Intel processor',\n",
    "        '27-inch 4K Ultra HD monitor with slim bezels',\n",
    "        'Latest flagship smartphone with OLED display',\n",
    "        '10-inch tablet with long battery life',\n",
    "        'Ergonomic wireless mouse for improved productivity'\n",
    "    ],\n",
    "    'warehouse_num': [1, 2, 1, 3, 2]\n",
    "}\n",
    "\n",
    "df = pd.DataFrame(data)"
   ]
  },
  {
   "cell_type": "code",
   "execution_count": 8,
   "metadata": {},
   "outputs": [
    {
     "name": "stdout",
     "output_type": "stream",
     "text": [
      "      SKU            name                                        description  \\\n",
      "0  SKU001          Laptop       High-performance laptop with Intel processor   \n",
      "1  SKU002         Monitor       27-inch 4K Ultra HD monitor with slim bezels   \n",
      "2  SKU003      Smartphone       Latest flagship smartphone with OLED display   \n",
      "3  SKU004          Tablet              10-inch tablet with long battery life   \n",
      "4  SKU005  Wireless Mouse  Ergonomic wireless mouse for improved producti...   \n",
      "\n",
      "   warehouse_num  \n",
      "0              1  \n",
      "1              2  \n",
      "2              1  \n",
      "3              3  \n",
      "4              2  \n"
     ]
    }
   ],
   "source": [
    "print(df)"
   ]
  },
  {
   "cell_type": "code",
   "execution_count": 9,
   "metadata": {},
   "outputs": [
    {
     "name": "stdout",
     "output_type": "stream",
     "text": [
      "SKU = SKU001, product_name =0, product_desc = High-performance laptop with Intel processor, warehouse_id = 1\n",
      "SKU = SKU002, product_name =1, product_desc = 27-inch 4K Ultra HD monitor with slim bezels, warehouse_id = 2\n",
      "SKU = SKU003, product_name =2, product_desc = Latest flagship smartphone with OLED display, warehouse_id = 1\n",
      "SKU = SKU004, product_name =3, product_desc = 10-inch tablet with long battery life, warehouse_id = 3\n",
      "SKU = SKU005, product_name =4, product_desc = Ergonomic wireless mouse for improved productivity, warehouse_id = 2\n"
     ]
    }
   ],
   "source": [
    "for index, row in df.iterrows():\n",
    "    print(f\"SKU = {row.SKU}, product_name ={row.name}, product_desc = {row.description}, warehouse_id = {row.warehouse_num}\")"
   ]
  },
  {
   "cell_type": "markdown",
   "metadata": {},
   "source": [
    "### Inserting the values into the cassandra database"
   ]
  },
  {
   "cell_type": "code",
   "execution_count": 10,
   "metadata": {},
   "outputs": [
    {
     "name": "stdout",
     "output_type": "stream",
     "text": [
      "\n",
      "        INSERT INTO m14.inventory (SKU, name, description, warehouse_num)     \n",
      "        VALUES (SKU001, 0, High-performance laptop with Intel processor, 1);\n",
      "        \n",
      "\n",
      "        INSERT INTO m14.inventory (SKU, name, description, warehouse_num)     \n",
      "        VALUES (SKU002, 1, 27-inch 4K Ultra HD monitor with slim bezels, 2);\n",
      "        \n",
      "\n",
      "        INSERT INTO m14.inventory (SKU, name, description, warehouse_num)     \n",
      "        VALUES (SKU003, 2, Latest flagship smartphone with OLED display, 1);\n",
      "        \n",
      "\n",
      "        INSERT INTO m14.inventory (SKU, name, description, warehouse_num)     \n",
      "        VALUES (SKU004, 3, 10-inch tablet with long battery life, 3);\n",
      "        \n",
      "\n",
      "        INSERT INTO m14.inventory (SKU, name, description, warehouse_num)     \n",
      "        VALUES (SKU005, 4, Ergonomic wireless mouse for improved productivity, 2);\n",
      "        \n"
     ]
    }
   ],
   "source": [
    "for index, row in df.iterrows():\n",
    "    print(f\"\"\"\n",
    "        INSERT INTO m14.inventory (SKU, name, description, warehouse_num)     \n",
    "        VALUES ({row.SKU}, {row.name}, {row.description}, {row.warehouse_num});\n",
    "        \"\"\"\n",
    "    )\n",
    "    session.execute(f\"\"\"\n",
    "        INSERT INTO m14.inventory (SKU, name, description, warehouse_num)\n",
    "        VALUES ('{row['SKU']}', '{row['name']}', '{row['description']}', {row['warehouse_num']});\n",
    "        \"\"\"\n",
    "    )"
   ]
  },
  {
   "cell_type": "code",
   "execution_count": 11,
   "metadata": {},
   "outputs": [
    {
     "name": "stdout",
     "output_type": "stream",
     "text": [
      "SKU=SKU005, name=Wireless Mouse, description=Ergonomic wireless mouse for improved productivity, warehouse_id=2\n",
      "SKU=SKU002, name=Monitor, description=27-inch 4K Ultra HD monitor with slim bezels, warehouse_id=2\n",
      "SKU=SKU004, name=Tablet, description=10-inch tablet with long battery life, warehouse_id=3\n",
      "SKU=SKU001, name=Laptop, description=High-performance laptop with Intel processor, warehouse_id=1\n",
      "SKU=SKU003, name=Smartphone, description=Latest flagship smartphone with OLED display, warehouse_id=1\n"
     ]
    }
   ],
   "source": [
    "rows = session.execute(\"select (SKU, name, description, warehouse_num) from m14.inventory\")\n",
    "for row in rows:\n",
    "    print(f\"SKU={row[0][0]}, name={row[0][1]}, description={row[0][2]}, warehouse_id={row[0][3]}\")\n"
   ]
  },
  {
   "cell_type": "markdown",
   "metadata": {},
   "source": [
    "### Creating an index on warehouse_num"
   ]
  },
  {
   "cell_type": "code",
   "execution_count": 12,
   "metadata": {},
   "outputs": [
    {
     "data": {
      "text/plain": [
       "<cassandra.cluster.ResultSet at 0x7fd77d037e10>"
      ]
     },
     "execution_count": 12,
     "metadata": {},
     "output_type": "execute_result"
    }
   ],
   "source": [
    "session.execute(\"CREATE INDEX ON m14.inventory(warehouse_num);\")"
   ]
  },
  {
   "cell_type": "markdown",
   "metadata": {},
   "source": [
    "### Searching for products "
   ]
  },
  {
   "cell_type": "code",
   "execution_count": 13,
   "metadata": {},
   "outputs": [
    {
     "name": "stdout",
     "output_type": "stream",
     "text": [
      "SKU005, Ergonomic wireless mouse for improved productivity, Wireless Mouse, 2\n",
      "SKU002, 27-inch 4K Ultra HD monitor with slim bezels, Monitor, 2\n"
     ]
    }
   ],
   "source": [
    "\n",
    "rows = session.execute(\"SELECT * from m14.inventory where warehouse_num = 2;\")\n",
    "for row in rows:\n",
    "    print(f\"{row[0]}, {row[1]}, {row[2]}, {row[3]}\")"
   ]
  },
  {
   "cell_type": "markdown",
   "metadata": {},
   "source": []
  }
 ],
 "metadata": {
  "kernelspec": {
   "display_name": "bd",
   "language": "python",
   "name": "python3"
  },
  "language_info": {
   "codemirror_mode": {
    "name": "ipython",
    "version": 3
   },
   "file_extension": ".py",
   "mimetype": "text/x-python",
   "name": "python",
   "nbconvert_exporter": "python",
   "pygments_lexer": "ipython3",
   "version": "3.11.5"
  },
  "orig_nbformat": 4
 },
 "nbformat": 4,
 "nbformat_minor": 2
}
